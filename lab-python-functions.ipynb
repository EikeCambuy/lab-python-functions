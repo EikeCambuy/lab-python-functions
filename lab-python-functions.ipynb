{
 "cells": [
  {
   "cell_type": "markdown",
   "id": "0c581062-8967-4d93-b06e-62833222f930",
   "metadata": {
    "tags": []
   },
   "source": [
    "## Exercise: Managing Customer Orders with Functions\n",
    "\n",
    "In the previous exercise, you improved the code for managing customer orders by using loops and flow control. Now, let's take it a step further and refactor the code by introducing functions.\n",
    "\n",
    "Follow the steps below to complete the exercise:\n",
    "\n",
    "1. Define a function named `initialize_inventory` that takes `products` as a parameter. Inside the function, implement the code for initializing the inventory dictionary using a loop and user input.\n",
    "\n",
    "2. Define a function named `get_customer_orders` that takes no parameters. Inside the function, implement the code for prompting the user to enter the product names using a loop. The function should return the `customer_orders` set.\n",
    "\n",
    "3. Define a function named `update_inventory` that takes `customer_orders` and `inventory` as parameters. Inside the function, implement the code for updating the inventory dictionary based on the customer orders.\n",
    "\n",
    "4. Define a function named `calculate_order_statistics` that takes `customer_orders` and `products` as parameters. Inside the function, implement the code for calculating the order statistics (total products ordered, and percentage of unique products ordered). The function should return these values.\n",
    "\n",
    "5. Define a function named `print_order_statistics` that takes `order_statistics` as a parameter. Inside the function, implement the code for printing the order statistics.\n",
    "\n",
    "6. Define a function named `print_updated_inventory` that takes `inventory` as a parameter. Inside the function, implement the code for printing the updated inventory.\n",
    "\n",
    "7. Call the functions in the appropriate sequence to execute the program and manage customer orders.\n",
    "\n",
    "Hints for functions:\n",
    "\n",
    "- Consider the input parameters required for each function and their return values.\n",
    "- Utilize function parameters and return values to transfer data between functions.\n",
    "- Test your functions individually to ensure they work correctly.\n",
    "\n",
    "\n"
   ]
  },
  {
   "cell_type": "code",
   "execution_count": null,
   "id": "f8cc7e1b",
   "metadata": {},
   "outputs": [],
   "source": [
    "         #Exercise 01\n",
    "def initialize_inventory(products):\n",
    "    inventory = {}\n",
    "    for produtc in products:\n",
    "        quantity = int(input(f\"Enter the quantity of products available in the inventory:\"))\n",
    "        inventory[produtc]= quantity\n",
    "    return inventory"
   ]
  },
  {
   "cell_type": "code",
   "execution_count": null,
   "id": "1258ddd3",
   "metadata": {},
   "outputs": [
    {
     "ename": "IndentationError",
     "evalue": "expected an indented block after 'while' statement on line 4 (4107034985.py, line 5)",
     "output_type": "error",
     "traceback": [
      "\u001b[1;36m  Cell \u001b[1;32mIn[5], line 5\u001b[1;36m\u001b[0m\n\u001b[1;33m    order = input(\"Enter the name of a product that the customer wants to order:\")\u001b[0m\n\u001b[1;37m                                                                                  ^\u001b[0m\n\u001b[1;31mIndentationError\u001b[0m\u001b[1;31m:\u001b[0m expected an indented block after 'while' statement on line 4\n"
     ]
    }
   ],
   "source": [
    "        #Exercise 02\n",
    "def get_customer_orders():\n",
    "    customer_orders = set()\n",
    "    while True:\n",
    "        order = input(\"Enter the name of a product that the customer wants to order:\")\n",
    "        customer_orders.add(order)\n",
    "        add_another = input(\"Do you what to add another product? Answer (yes/no):\")\n",
    "        \n",
    "        if add_another.lower() ! = \"yes\":\n",
    "            break\n",
    "    return customer_orders\n",
    "\n",
    "\n",
    "          "
   ]
  },
  {
   "cell_type": "code",
   "execution_count": null,
   "id": "8c8c6ebf",
   "metadata": {},
   "outputs": [],
   "source": [
    "def get_customer_orders():\n",
    "    customer_orders = set()\n",
    "    while True:\n",
    "        order = input(\"Enter the name of a product that the customer wants to order:\")\n",
    "        customer_orders.add(order)\n",
    "        add_another = input(\"Do you what to add another product? Answer (yes/no):\")\n",
    "        \n",
    "        if add_another.lower() != \"yes\":\n",
    "            break\n",
    "    return customer_orders"
   ]
  },
  {
   "cell_type": "code",
   "execution_count": null,
   "id": "e2ff38db",
   "metadata": {},
   "outputs": [],
   "source": [
    "         #Exercise 03\n",
    "def update_inventory(customer_orders , inventory):\n",
    "    for products in customer_orders:\n",
    "        if products in inventory:\n",
    "            inventory[products] -= 1\n",
    "            if inventory[products] < 0:\n",
    "                inventory[products] = 0\n",
    "    return inventory"
   ]
  },
  {
   "cell_type": "code",
   "execution_count": 54,
   "id": "64e23237",
   "metadata": {},
   "outputs": [],
   "source": [
    "        #Exercise 04\n",
    "def calculate_order_statistics(customer_orders , products):\n",
    "    total_products_ordered= len(customer_orders)\n",
    "    percentage_ordered=(total_products_ordered / len(products))* 100\n",
    "    return total_products_ordered , percentage_ordered"
   ]
  },
  {
   "cell_type": "code",
   "execution_count": 56,
   "id": "14d975f0",
   "metadata": {},
   "outputs": [],
   "source": [
    "        #Exxxercise 05\n",
    "def print_order_startistics(order_statistics):\n",
    "    total_products_ordered, percentage_ordered = order_statistics\n",
    "    print(\"Order statistics:\")\n",
    "    print(f\"Total Products Orderes: {total_products_ordered}\")\n",
    "    print(f\"Percentage of Product Ordered: {percentage_ordered}%\")"
   ]
  },
  {
   "cell_type": "code",
   "execution_count": 57,
   "id": "67bb997e",
   "metadata": {},
   "outputs": [],
   "source": [
    "         #Exercise 06\n",
    "def print_updated_inventory(inventory):\n",
    "    print(\"Update Inventory:\")\n",
    "    for products , quantity in inventory.items():\n",
    "        print(f\"{products}: {quantity}\")"
   ]
  },
  {
   "cell_type": "code",
   "execution_count": 59,
   "id": "6fa04bb5",
   "metadata": {},
   "outputs": [],
   "source": [
    "       #Exercise 07\n",
    "\n",
    "def main():\n",
    "    products = (\"t-shirt\",\"mug\",\"hat\",\"book\",\"keychain\")\n",
    "    inventory = initialize_inventory (products)\n",
    "    customer_orders = get_customer_orders()\n",
    "    inventory = update_inventory(customer_orders,inventory)\n",
    "    order_statistics = calculate_order_statistics(customer_orders,products)\n",
    "    print_order_startistics(order_statistics)\n",
    "    print_updated_inventory(inventory)"
   ]
  },
  {
   "cell_type": "code",
   "execution_count": 60,
   "id": "67e31c81",
   "metadata": {},
   "outputs": [
    {
     "name": "stdout",
     "output_type": "stream",
     "text": [
      "Order statistics:\n",
      "Total Products Orderes: 4\n",
      "Percentage of Product Ordered: 80.0%\n",
      "Update Inventory:\n",
      "t-shirt: 5\n",
      "mug: 5\n",
      "hat: 6\n",
      "book: 5\n",
      "keychain: 4\n"
     ]
    }
   ],
   "source": [
    "main()"
   ]
  }
 ],
 "metadata": {
  "kernelspec": {
   "display_name": "Python 3 (ipykernel)",
   "language": "python",
   "name": "python3"
  },
  "language_info": {
   "codemirror_mode": {
    "name": "ipython",
    "version": 3
   },
   "file_extension": ".py",
   "mimetype": "text/x-python",
   "name": "python",
   "nbconvert_exporter": "python",
   "pygments_lexer": "ipython3",
   "version": "3.11.5"
  }
 },
 "nbformat": 4,
 "nbformat_minor": 5
}
